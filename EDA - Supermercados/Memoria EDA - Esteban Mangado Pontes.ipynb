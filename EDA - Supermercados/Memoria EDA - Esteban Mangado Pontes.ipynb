{
 "cells": [
  {
   "cell_type": "markdown",
   "id": "3b359d4b",
   "metadata": {},
   "source": [
    "# Memoria EDA - Analisis Precios Supermercados - Esteban Mangado"
   ]
  },
  {
   "cell_type": "markdown",
   "id": "04264130",
   "metadata": {},
   "source": [
    "# Índice\n",
    "\n",
    "1. [Introducción](#1.-Introducción)  \n",
    "2. [Obtención de los datos](#2.-Obtención-de-los-datos)\n",
    "3. [Variables de los datos](#3.-Variables-de-los-datos)\n",
    "4. [Librerias utilizadas](#4.-Librerias-utilizadas)  \n",
    "5. [Volumen de trabajo inicial](#5.-Volumen-de-trabajo-inicial)     \n",
    "6. [Problemas encontrados y soluciones aplicadas](#6.-Problemas-encontrados-y-soluciones-aplicadas)    \n",
    "7. [Visualización de los resultados](#7.-Visualización-de-los-resultados)   \n"
   ]
  },
  {
   "cell_type": "markdown",
   "id": "f1bd8178",
   "metadata": {},
   "source": [
    "# 1. Introducción\n",
    "Este proyecto surge como idea de un comparador de precios entre los distintos supermercados.\n",
    "Durante este último año han salido muchas noticias derivadas del aumento de los precios en todos los sectores, no solo en el de la alimentación. Por lo que puede ser interesante saber donde se encuentran los precios más caros y donde los más baratos.\n",
    "\n",
    "Además, gracias a los datos obtenidos, se va a realizar una comparativa entre los precios de Mercadona, Día y Carrefour, estudiando su evolución temporal desde marzo de 2021 hasta el momento de la entrega de este proyecto."
   ]
  },
  {
   "cell_type": "markdown",
   "id": "ac49efd4",
   "metadata": {},
   "source": [
    "# 2. Obtención de los datos\n",
    "Los datos se han obtenido gracias a la iniciativa *Open Data de [DataMarket](https://datamarket.es/#productos-de-supermercados-dataset)* para dar acceso a datos actualizados y de calidad de temáticas que son de interés para la comunidad.\n",
    "\n",
    "Esta iniciativa proporciona datos de tres de los supermercados más importantes del país (Mercadona, Día y Carrefour), con un volumen de datos diarios de aproximadamente unos 50000 registros, que van actualizando en unos CSV descargables desde un [enlace de drive](https://drive.google.com/drive/folders/1nQBn2mkZQyP-pAwD1-gBRVSbGh0unAvr). La serie histórica de datos comienza desde marzo de 2021, lo que permite realizar una comparativa del aumento de los precios en este último año.\n",
    "\n",
    "Los datos se proporcionan en distintos CSV, separados para cada supermercado y por mes."
   ]
  },
  {
   "cell_type": "markdown",
   "id": "0c562cac",
   "metadata": {},
   "source": [
    "# 3. Variables de los datos\n",
    "Estos datos contienen los siguientes campos (según aparecen inicialmente):\n",
    "\n",
    "* `url`: URL que lleva a la página del producto. Puede no funcionar si ya no se vende el producto.\n",
    "* `supermarket`: Supermercado de donde se han obtenido los datos\n",
    "* `category`: Conjunto del nivel jerárquico de las categorías del producto. Puede contener hasta 3 niveles (en Mercadona el máximo es de dos, Categoría y Subcategoría)\n",
    "* `name`: Nombre del producto\n",
    "* `description`: Campo vacío en los datos de Carrefour y Dia. En Mercadona contiene información de si el producto es un paquete, un bote, un pack...\n",
    "* `price`: Precio que tenía el producto en el momento del registro.\n",
    "* `reference_price`: Precio de referencia, sobre kilo, litro, unidad...\n",
    "* `reference_unit`: Unidad del  producto (kg, unidades, litros, lavados...)\n",
    "* `insert_date`: Fecha en la que se han tomado los datos de los supermercados\n",
    "* `product_id`: Identificador Id asociado a cada producto"
   ]
  },
  {
   "cell_type": "markdown",
   "id": "5487e7ab",
   "metadata": {},
   "source": [
    "# 4. Librerías utlizadas\n",
    "Se han utlizado las siguientes librerias\n",
    "```Python\n",
    "import pandas as pd\n",
    "import glob\n",
    "import numpy as np\n",
    "from datetime import datetime\n",
    "from openpyxl import Workbook, load_workbook\n",
    "import sqlite3\n",
    "```\n",
    "\n",
    "* La librería `glob`se ha utilizado para la importación y lectura de los CSV\n",
    "* `Workbook`y `load_workbook` se emplean para escribir sobre el excel de categorías si fuera necesario\n",
    "* `datetime`se ha usado para calcular el tiempo que tarda todo el proceso completo en ejecutarse"
   ]
  },
  {
   "cell_type": "markdown",
   "id": "5b5e3529",
   "metadata": {},
   "source": [
    "# 5. Volumen de trabajo inicial\n",
    "\n",
    "En el momento de realizar este proyecto, se cuenta con el siguiente volumen de información:\n",
    "\n",
    "* El DataFrame de Carrefour tiene 1967509 de filas y 10 de columnas  \n",
    "* El DataFrame de Dia tiene 3723032 de filas y 10 de columnas  \n",
    "* El DataFrame de Mercadona tiene 3855618 de filas y 10 de columnas  \n",
    "\n",
    "Aunque los dataframe tienen pocas columnas, el gran volumen de datos ha producido varios problemas a lo largo de toda la limpieza de los mismos."
   ]
  },
  {
   "cell_type": "markdown",
   "id": "7fbab04c",
   "metadata": {},
   "source": [
    "# 6. Problemas encontrados y soluciones aplicadas\n",
    "\n",
    "Durante este trabajo han aparecido varios problemas.\n",
    "\n",
    "## Obtención automática de los datos\n",
    "El plan original era desarrollar un código que descargase automáticamente del Drive los CSV del mes en cuestión. Sin embargo, por la forma de trabajar de Drive, todo lo que se encuentre dentro de una de sus carpetas es considerado como un bloque, no se puede seleccionar de forma trivial los archivos a descargar. Por tanto, la descarga de los datos se realiza manualmente.\n",
    "\n",
    "## Columna Category\n",
    "El problema con esta columna era buscar la forma de descomponer el campo category en los diferentes niveles categóricos que emplea cada supermercado para clasificar sus productos.\n",
    "\n",
    "Sin embargo, debido al gran número de categorías (588 para Carrefour, 769 para Día y 155 para Mercadona) y a que no seguian un patrón para intentar realizarlo con bucles, se tuvo que realizar la categorización manualmente.\n",
    "\n",
    "Porsteriormetne, se estableció un código que leyese el excel donde está esa categorización y que comprobase si hay categorias nuevas, para en ese caso introducirlas manualmente.\n",
    "\n",
    "## Outliers\n",
    "El siguiente gran quebradero de cabeza fueron los outliers de las columnas Price y Reference Price.\n",
    "\n",
    "Este problema se debía sobre todo a dos cuestiones.\n",
    "1. Si un producto ha sufrido recientemente una subida, pero durante la mayoria del tiempo ha tenido un precio constante, este último valor aumentado será un Outlier.\n",
    "2. Si el precio del producto no ha parado de subir, con grandes subidas continuas, los precios más antiguos y los precios más nuevos pueden llegar a ser outliers siguiendo el procedimiento de obtenerlos mediante la desviación típica.\n",
    "\n",
    "Para solucionar, en cierta medida, este problema se optó por establecer que el valor límite debía ser un múltiplo de la media. Este múltiplo se estableció para cada supermercado y para cada categoria en base a prueba y error.\n",
    "\n",
    "Esto se debe a que con este método no se captan todos los Outliers que hay, y en cambio también se identifican como Outliers muchos que no lo son, pero en mucha menor medida que cuando se utilizaba el método de la desvicación típica.\n",
    "\n",
    "## Columna Name\n",
    "Otro gran problema que ha habido con los datos, es que se ha asignado el mismo \"product_id\" a productos diferentes.\n",
    "\n",
    "Esto se debe a que si un producto ha sufrido una modificación en cantidad, por ejemplo pasando de ser un paquete de 500g a uno de 1000g, se ha considerado como el mismo producto, cuando ni por precio ni por nombre lo es.\n",
    "\n",
    "Aparte de esto, tambien se ha dado el caso de que hay productos iguales (en cantidad y precio similar) que tienen nombres diferentes (con pequeñas variaciones)\n",
    "\n",
    "Todo esto ha dificultado la unificación de estos nombres. Nombres que son necesarios para buscar por productos en el PowerBI\n",
    "\n",
    "Para poder unificar los nombres se optó por crear una nueva columna ID que contuviera los \"id\" y el precio de referencia, agrupando así a los productos.\n",
    "Una vez agrupados mediante este nuevo campo, se asigna la descripción más actual.\n",
    "\n",
    "## Tablas de dimensiones y de hechos\n",
    "\n",
    "El último gran problema encontrado fue una vez terminada la limpieza de los datos, no fue posible cargar los mismos al Power Bi al pesar demasiado las tablas de los DataFrame.\n",
    "\n",
    "Para solucionar esto, se crearon diversas tablas de dimensiones, aligerando la información de la tabla principal. Esto permitió que se pudieran concatenar los 3 DataFrame en uno solo y meter los más de 9 millones de registros en una única tabla, relacionando el resto de campos (supermercados, fechas, categorías, unidades de referencia...) en otras tablas de dimensiones."
   ]
  },
  {
   "cell_type": "markdown",
   "id": "23037834",
   "metadata": {},
   "source": [
    "# 7. Visualización de los resultados\n",
    "\n",
    "Para la visualización de los datos se ha optado por Power BI, creando una pequeña \"aplicación\" que permite realizar dos funciones principalmente.\n",
    "\n",
    "La primera, es una comparativa de la evolución de los precios por categorías, analizando los 3 supermercados al mismo tiempo, o cada uno por separado. Para esto se han creado 4 páginas en power bi, una para cada supuesto (conjunto y por separado)\n",
    "\n",
    "La segunda funcionalidad de la \"aplicación\" es la de ser un buscador de precios. Este buscador permite comprobar el precio de un producto de un supermercado frente a otros similares de los otros supermercados, viendo la evolución de todos los que se indiquen y comprobando cual es más caro o barato\n",
    "\n",
    "El enlace del Power BI es el siguiente:\n",
    "\n",
    "[Enlace](https://app.powerbi.com/reportEmbed?reportId=7dc237a7-855d-4e07-bc74-582495889db5&autoAuth=true&ctid=24a632fe-9754-48c6-b0a6-be004693446d)"
   ]
  }
 ],
 "metadata": {
  "kernelspec": {
   "display_name": "Python 3 (ipykernel)",
   "language": "python",
   "name": "python3"
  },
  "language_info": {
   "codemirror_mode": {
    "name": "ipython",
    "version": 3
   },
   "file_extension": ".py",
   "mimetype": "text/x-python",
   "name": "python",
   "nbconvert_exporter": "python",
   "pygments_lexer": "ipython3",
   "version": "3.10.4"
  }
 },
 "nbformat": 4,
 "nbformat_minor": 5
}
